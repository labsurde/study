{
  "nbformat": 4,
  "nbformat_minor": 0,
  "metadata": {
    "colab": {
      "name": "While_if_test",
      "provenance": [],
      "collapsed_sections": [],
      "toc_visible": true,
      "include_colab_link": true
    },
    "kernelspec": {
      "name": "python3",
      "display_name": "Python 3"
    },
    "language_info": {
      "codemirror_mode": {
        "name": "ipython",
        "version": 3
      },
      "file_extension": ".py",
      "mimetype": "text/x-python",
      "name": "python",
      "nbconvert_exporter": "python",
      "pygments_lexer": "ipython3",
      "version": "3.7.5rc1"
    }
  },
  "cells": [
    {
      "cell_type": "markdown",
      "metadata": {
        "id": "view-in-github",
        "colab_type": "text"
      },
      "source": [
        "<a href=\"https://colab.research.google.com/github/labsurde/study/blob/master/While_if_test.ipynb\" target=\"_parent\"><img src=\"https://colab.research.google.com/assets/colab-badge.svg\" alt=\"Open In Colab\"/></a>"
      ]
    },
    {
      "cell_type": "markdown",
      "metadata": {
        "colab_type": "text",
        "id": "rX8mhOLljYeM"
      },
      "source": [
        "![대체 텍스트](https://)##### Copyright 2019 The TensorFlow Authors.\n"
      ]
    },
    {
      "cell_type": "code",
      "metadata": {
        "cellView": "form",
        "colab_type": "code",
        "id": "BZSlp3DAjdYf",
        "colab": {}
      },
      "source": [
        "#@title Licensed under the Apache License, Version 2.0 (the \"License\");\n",
        "# you may not use this file except in compliance with the License.\n",
        "# You may obtain a copy of the License at\n",
        "#\n",
        "# https://www.apache.org/licenses/LICENSE-2.0\n",
        "#\n",
        "# Unless required by applicable law or agreed to in writing, software\n",
        "# distributed under the License is distributed on an \"AS IS\" BASIS,\n",
        "# WITHOUT WARRANTIES OR CONDITIONS OF ANY KIND, either express or implied.\n",
        "# See the License for the specific language governing permissions and\n",
        "# limitations under the License."
      ],
      "execution_count": 0,
      "outputs": []
    },
    {
      "cell_type": "markdown",
      "metadata": {
        "colab_type": "text",
        "id": "eOsVdx6GGHmU"
      },
      "source": [
        "Download and install TensorFlow 2. Import TensorFlow into your program:\n",
        "\n",
        "Note: Upgrade `pip` to install the TensorFlow 2 package. See the [install guide](https://www.tensorflow.org/install) for details."
      ]
    },
    {
      "cell_type": "code",
      "metadata": {
        "colab_type": "code",
        "id": "ioLbtB3uGKPX",
        "colab": {}
      },
      "source": [
        "try:\n",
        "  # %tensorflow_version only exists in Colab.\n",
        "  %tensorflow_version 2.x\n",
        "except Exception:\n",
        "  pass"
      ],
      "execution_count": 0,
      "outputs": []
    },
    {
      "cell_type": "markdown",
      "metadata": {
        "colab_type": "text",
        "id": "QS7DDTiZGRTo"
      },
      "source": [
        "Import TensorFlow into your program:"
      ]
    },
    {
      "cell_type": "code",
      "metadata": {
        "id": "hhLyO05G-x9y",
        "colab_type": "code",
        "colab": {}
      },
      "source": [
        "from __future__ import absolute_import, division, print_function, unicode_literals, unicode_literals\n",
        "\n",
        "# tensorflow와 tf.keras를 임포트합니다\n",
        "import tensorflow as tf\n",
        "from tensorflow import keras\n",
        "\n",
        "print(tf.__version__)"
      ],
      "execution_count": 0,
      "outputs": []
    },
    {
      "cell_type": "markdown",
      "metadata": {
        "id": "PPj8N3YAloMJ",
        "colab_type": "text"
      },
      "source": [
        "loading data"
      ]
    },
    {
      "cell_type": "code",
      "metadata": {
        "id": "MVxn5IAzGwd0",
        "colab_type": "code",
        "colab": {}
      },
      "source": [
        "# load test data set\n",
        "fashion_mnist = keras.datasets.fashion_mnist\n",
        "(train_images, train_labels), (test_images, test_labels) = fashion_mnist.load_data()\n",
        "\n",
        "class_names = ['T-shirt/top', 'Trouser', 'Pullover', 'Dress', 'Coat',\n",
        "               'Sandal', 'Shirt', 'Sneaker', 'Bag', 'Ankle boot']\n",
        "\n",
        "# let's shrink the data because we don't need full training and we just need tflite graph\n",
        "train_images = train_images[0:1]\n",
        "train_labels = train_labels[0:1]\n",
        "test_images = test_images[0:1]\n",
        "test_labels = test_labels[0:1]\n",
        "\n",
        "train_images = train_images / 255.0\n",
        "test_images = test_images / 255.0               "
      ],
      "execution_count": 0,
      "outputs": []
    },
    {
      "cell_type": "markdown",
      "metadata": {
        "id": "HwtRFPAgo62U",
        "colab_type": "text"
      },
      "source": [
        "# Generating while.tflite"
      ]
    },
    {
      "cell_type": "code",
      "metadata": {
        "id": "lHl5-q_oHIBO",
        "colab_type": "code",
        "colab": {}
      },
      "source": [
        "# layer for \"while\"\n",
        "from tensorflow.keras import layers\n",
        "\n",
        "class WhileLayer(layers.Layer):\n",
        "\n",
        "  def __init__(self):\n",
        "    super(WhileLayer, self).__init__()\n",
        "\n",
        "  @tf.function\n",
        "  def call(self, matrix):\n",
        "    for i in tf.range(5):\n",
        "      matrix = matrix + 1\n",
        "    return matrix\n"
      ],
      "execution_count": 0,
      "outputs": []
    },
    {
      "cell_type": "code",
      "metadata": {
        "id": "GusbINxKHMX7",
        "colab_type": "code",
        "colab": {}
      },
      "source": [
        "# make model and train\n",
        "model = keras.Sequential([\n",
        "  keras.layers.Flatten(input_shape=(28, 28)),\n",
        "  WhileLayer(),\n",
        "  keras.layers.Dense(10, activation='softmax')\n",
        "])\n",
        "\n",
        "model.compile(optimizer='adam',\n",
        "              loss='sparse_categorical_crossentropy',\n",
        "              metrics=['accuracy'])\n",
        "\n",
        "model.fit(train_images, train_labels, epochs=1)"
      ],
      "execution_count": 0,
      "outputs": []
    },
    {
      "cell_type": "code",
      "metadata": {
        "id": "Dglm0azxHYlV",
        "colab_type": "code",
        "colab": {}
      },
      "source": [
        "# write tflite file\n",
        "converter = tf.lite.TFLiteConverter.from_keras_model(model)\n",
        "converter.experimental_new_converter = True\n",
        "tflite_model = converter.convert()\n",
        "\n",
        "open(\"while.tflite\", \"wb\").write(tflite_model)\n"
      ],
      "execution_count": 0,
      "outputs": []
    },
    {
      "cell_type": "code",
      "metadata": {
        "id": "PwuCGuOynI9M",
        "colab_type": "code",
        "colab": {}
      },
      "source": [
        "tf.keras.utils.plot_model(model, show_shapes=True)"
      ],
      "execution_count": 0,
      "outputs": []
    },
    {
      "cell_type": "markdown",
      "metadata": {
        "id": "Bhqbp1eFoyoh",
        "colab_type": "text"
      },
      "source": [
        "# generating if.tflite"
      ]
    },
    {
      "cell_type": "code",
      "metadata": {
        "colab_type": "code",
        "id": "bHK6Z8VXoxaY",
        "colab": {}
      },
      "source": [
        "# layer for \"if\"\n",
        "class IfLayer(layers.Layer):\n",
        "\n",
        "  def __init__(self):\n",
        "    super(IfLayer, self).__init__()\n",
        "    self.count = 0\n",
        "\n",
        "  @tf.function\n",
        "  def call(self, matrix):\n",
        "    cond = matrix[0,0] > 0\n",
        "    if cond:\n",
        "      matrix = matrix + 1\n",
        "      return matrix\n",
        "    else: \n",
        "      matrix = matrix - 1\n",
        "      return matrix"
      ],
      "execution_count": 0,
      "outputs": []
    },
    {
      "cell_type": "code",
      "metadata": {
        "colab_type": "code",
        "id": "5--fQNJ2oxak",
        "colab": {}
      },
      "source": [
        "# make model and train\n",
        "model = keras.Sequential([\n",
        "  keras.layers.Flatten(input_shape=(28, 28)),\n",
        "  IfLayer(),\n",
        "  keras.layers.Dense(10, activation='softmax')\n",
        "])\n",
        "\n",
        "model.compile(optimizer='adam',\n",
        "              loss='sparse_categorical_crossentropy',\n",
        "              metrics=['accuracy'])\n",
        "\n",
        "model.fit(train_images, train_labels, epochs=1)"
      ],
      "execution_count": 0,
      "outputs": []
    },
    {
      "cell_type": "code",
      "metadata": {
        "colab_type": "code",
        "id": "zyLxSrBgoxao",
        "colab": {}
      },
      "source": [
        "# write tflite file\n",
        "converter = tf.lite.TFLiteConverter.from_keras_model(model)\n",
        "converter.experimental_new_converter = True\n",
        "tflite_model = converter.convert()\n",
        "\n",
        "open(\"if.tflite\", \"wb\").write(tflite_model)"
      ],
      "execution_count": 0,
      "outputs": []
    },
    {
      "cell_type": "code",
      "metadata": {
        "colab_type": "code",
        "id": "vvLdDEjToxaq",
        "colab": {}
      },
      "source": [
        "tf.keras.utils.plot_model(model, show_shapes=True)"
      ],
      "execution_count": 0,
      "outputs": []
    },
    {
      "cell_type": "markdown",
      "metadata": {
        "id": "113lDutdqVzl",
        "colab_type": "text"
      },
      "source": [
        "Now, download `if.tflite` and `while.tflite` from left \"FILE\" explorer"
      ]
    }
  ]
}